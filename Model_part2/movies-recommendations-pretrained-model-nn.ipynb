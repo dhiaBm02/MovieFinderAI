{
 "cells": [
  {
   "cell_type": "code",
   "execution_count": 1,
   "id": "9b892587",
   "metadata": {
    "ExecuteTime": {
     "end_time": "2024-02-03T12:40:51.994746800Z",
     "start_time": "2024-02-03T12:40:51.946197900Z"
    },
    "_cell_guid": "b1076dfc-b9ad-4769-8c92-a6c4dae69d19",
    "_uuid": "8f2839f25d086af736a60e9eeb907d3b93b6e0e5",
    "execution": {
     "iopub.execute_input": "2023-07-17T12:02:43.098375Z",
     "iopub.status.busy": "2023-07-17T12:02:43.097255Z",
     "iopub.status.idle": "2023-07-17T12:02:43.119426Z",
     "shell.execute_reply": "2023-07-17T12:02:43.117441Z"
    },
    "papermill": {
     "duration": 0.032432,
     "end_time": "2023-07-17T12:02:43.121720",
     "exception": false,
     "start_time": "2023-07-17T12:02:43.089288",
     "status": "completed"
    },
    "tags": []
   },
   "outputs": [
    {
     "name": "stdout",
     "output_type": "stream",
     "text": [
      "\n",
      "\n",
      "\n",
      "\n",
      "\n",
      "\n",
      "C:\\Users\\Mohamed amine\\Desktop\\WI24\\AI\\AI_app\\IAI_Team4_MovieFinder\\Model_part2\n"
     ]
    }
   ],
   "source": [
    "# This Python 3 environment comes with many helpful analytics libraries installed\n",
    "# It is defined by the kaggle/python Docker image: https://github.com/kaggle/docker-python\n",
    "# For example, here's several helpful packages to load\n",
    "\n",
    "# import numpy as np # linear algebra\n",
    "# import pandas as pd # data processing, CSV file I/O (e.g. pd.read_csv)\n",
    "# \n",
    "# # Input data files are available in the read-only \"../input/\" directory\n",
    "# # For example, running this (by clicking run or pressing Shift+Enter) will list all files under the input directory\n",
    "# \n",
    "# import os\n",
    "import os\n",
    "for dirname, _, filenames in os.walk('C:/Users/Mohamed amine/Desktop/WI24/AI/AI_app/IAI_Team4_MovieFinder/Model_part2'):\n",
    "    for filename in filenames:\n",
    "       print()\n",
    "       # print(os.path.join(dirname, filename))\n",
    "\n",
    "print(os.getcwd())\n",
    "# You can write up to 20GB to the current directory (/kaggle/working/) that gets preserved as output when you create a version using \"Save & Run All\" \n",
    "# You can also write temporary files to /kaggle/temp/, but they won't be saved outside of the current session"
   ]
  },
  {
   "cell_type": "code",
   "execution_count": 2,
   "id": "5e9eb3c3",
   "metadata": {
    "ExecuteTime": {
     "end_time": "2024-02-03T12:40:58.322194Z",
     "start_time": "2024-02-03T12:40:51.956746100Z"
    },
    "execution": {
     "iopub.execute_input": "2023-07-17T12:02:43.136785Z",
     "iopub.status.busy": "2023-07-17T12:02:43.136123Z",
     "iopub.status.idle": "2023-07-17T12:02:43.140565Z",
     "shell.execute_reply": "2023-07-17T12:02:43.139353Z"
    },
    "papermill": {
     "duration": 0.014029,
     "end_time": "2023-07-17T12:02:43.142476",
     "exception": false,
     "start_time": "2023-07-17T12:02:43.128447",
     "status": "completed"
    },
    "tags": []
   },
   "outputs": [
    {
     "name": "stderr",
     "output_type": "stream",
     "text": [
      "C:\\Users\\Mohamed amine\\AppData\\Local\\Temp\\ipykernel_3692\\2152741094.py:2: DeprecationWarning: \n",
      "Pyarrow will become a required dependency of pandas in the next major release of pandas (pandas 3.0),\n",
      "(to allow more performant data types, such as the Arrow string type, and better interoperability with other libraries)\n",
      "but was not found to be installed on your system.\n",
      "If this would cause problems for you,\n",
      "please provide us feedback at https://github.com/pandas-dev/pandas/issues/54466\n",
      "        \n",
      "  import pandas as pd  # pandas is used for data manipulation and analysis\n"
     ]
    }
   ],
   "source": [
    "# Import the required libraries\n",
    "import pandas as pd  # pandas is used for data manipulation and analysis\n",
    "import numpy as np   # numpy is used for numerical computing and array operations"
   ]
  },
  {
   "cell_type": "markdown",
   "id": "98c9064d",
   "metadata": {
    "papermill": {
     "duration": 0.005854,
     "end_time": "2023-07-17T12:02:43.154783",
     "exception": false,
     "start_time": "2023-07-17T12:02:43.148929",
     "status": "completed"
    },
    "tags": []
   },
   "source": [
    "# **Loading and analyzing the data**"
   ]
  },
  {
   "cell_type": "code",
   "execution_count": 3,
   "id": "2989e37a",
   "metadata": {
    "ExecuteTime": {
     "end_time": "2024-02-03T12:41:01.417781500Z",
     "start_time": "2024-02-03T12:40:55.459429Z"
    },
    "execution": {
     "iopub.execute_input": "2023-07-17T12:02:43.168664Z",
     "iopub.status.busy": "2023-07-17T12:02:43.168063Z",
     "iopub.status.idle": "2023-07-17T12:02:43.311774Z",
     "shell.execute_reply": "2023-07-17T12:02:43.311089Z"
    },
    "papermill": {
     "duration": 0.153086,
     "end_time": "2023-07-17T12:02:43.313912",
     "exception": false,
     "start_time": "2023-07-17T12:02:43.160826",
     "status": "completed"
    },
    "tags": []
   },
   "outputs": [],
   "source": [
    "# Read the CSV file 'mymoviedb.csv' into a DataFrame called 'df'\n",
    "# Set the lineterminator to '\\n' to handle any line termination characters properly\n",
    "# pd.set_option('display.max_rows', None)\n",
    "# pd.set_option('display.max_columns', None)\n",
    "df = pd.read_csv('C:/Users/Mohamed amine/Desktop/WI24/AI/AI_app/IAI_Team4_MovieFinder/Model_part2/mymoviedb.csv')"
   ]
  },
  {
   "cell_type": "code",
   "execution_count": 4,
   "id": "1785d0cd",
   "metadata": {
    "ExecuteTime": {
     "end_time": "2024-02-03T12:41:01.422782700Z",
     "start_time": "2024-02-03T12:40:55.511723600Z"
    },
    "execution": {
     "iopub.execute_input": "2023-07-17T12:02:43.327889Z",
     "iopub.status.busy": "2023-07-17T12:02:43.327420Z",
     "iopub.status.idle": "2023-07-17T12:02:43.348228Z",
     "shell.execute_reply": "2023-07-17T12:02:43.347540Z"
    },
    "papermill": {
     "duration": 0.029835,
     "end_time": "2023-07-17T12:02:43.350179",
     "exception": false,
     "start_time": "2023-07-17T12:02:43.320344",
     "status": "completed"
    },
    "tags": []
   },
   "outputs": [
    {
     "data": {
      "text/html": [
       "<div>\n",
       "<style scoped>\n",
       "    .dataframe tbody tr th:only-of-type {\n",
       "        vertical-align: middle;\n",
       "    }\n",
       "\n",
       "    .dataframe tbody tr th {\n",
       "        vertical-align: top;\n",
       "    }\n",
       "\n",
       "    .dataframe thead th {\n",
       "        text-align: right;\n",
       "    }\n",
       "</style>\n",
       "<table border=\"1\" class=\"dataframe\">\n",
       "  <thead>\n",
       "    <tr style=\"text-align: right;\">\n",
       "      <th></th>\n",
       "      <th>Release_Date</th>\n",
       "      <th>Title</th>\n",
       "      <th>Overview</th>\n",
       "      <th>Popularity</th>\n",
       "      <th>Vote_Count</th>\n",
       "      <th>Vote_Average</th>\n",
       "      <th>Original_Language</th>\n",
       "      <th>Genre</th>\n",
       "      <th>Poster_Url</th>\n",
       "    </tr>\n",
       "  </thead>\n",
       "  <tbody>\n",
       "    <tr>\n",
       "      <th>0</th>\n",
       "      <td>2021-12-15</td>\n",
       "      <td>Spider-Man: No Way Home</td>\n",
       "      <td>Peter Parker is unmasked and no longer able to...</td>\n",
       "      <td>5083.954</td>\n",
       "      <td>8940</td>\n",
       "      <td>8.3</td>\n",
       "      <td>en</td>\n",
       "      <td>Action, Adventure, Science Fiction</td>\n",
       "      <td>https://image.tmdb.org/t/p/original/1g0dhYtq4i...</td>\n",
       "    </tr>\n",
       "    <tr>\n",
       "      <th>1</th>\n",
       "      <td>2022-03-01</td>\n",
       "      <td>The Batman</td>\n",
       "      <td>In his second year of fighting crime, Batman u...</td>\n",
       "      <td>3827.658</td>\n",
       "      <td>1151</td>\n",
       "      <td>8.1</td>\n",
       "      <td>en</td>\n",
       "      <td>Crime, Mystery, Thriller</td>\n",
       "      <td>https://image.tmdb.org/t/p/original/74xTEgt7R3...</td>\n",
       "    </tr>\n",
       "    <tr>\n",
       "      <th>2</th>\n",
       "      <td>2022-02-25</td>\n",
       "      <td>No Exit</td>\n",
       "      <td>Stranded at a rest stop in the mountains durin...</td>\n",
       "      <td>2618.087</td>\n",
       "      <td>122</td>\n",
       "      <td>6.3</td>\n",
       "      <td>en</td>\n",
       "      <td>Thriller</td>\n",
       "      <td>https://image.tmdb.org/t/p/original/vDHsLnOWKl...</td>\n",
       "    </tr>\n",
       "    <tr>\n",
       "      <th>3</th>\n",
       "      <td>2021-11-24</td>\n",
       "      <td>Encanto</td>\n",
       "      <td>The tale of an extraordinary family, the Madri...</td>\n",
       "      <td>2402.201</td>\n",
       "      <td>5076</td>\n",
       "      <td>7.7</td>\n",
       "      <td>en</td>\n",
       "      <td>Animation, Comedy, Family, Fantasy</td>\n",
       "      <td>https://image.tmdb.org/t/p/original/4j0PNHkMr5...</td>\n",
       "    </tr>\n",
       "    <tr>\n",
       "      <th>4</th>\n",
       "      <td>2021-12-22</td>\n",
       "      <td>The King's Man</td>\n",
       "      <td>As a collection of history's worst tyrants and...</td>\n",
       "      <td>1895.511</td>\n",
       "      <td>1793</td>\n",
       "      <td>7.0</td>\n",
       "      <td>en</td>\n",
       "      <td>Action, Adventure, Thriller, War</td>\n",
       "      <td>https://image.tmdb.org/t/p/original/aq4Pwv5Xeu...</td>\n",
       "    </tr>\n",
       "  </tbody>\n",
       "</table>\n",
       "</div>"
      ],
      "text/plain": [
       "  Release_Date                    Title  \\\n",
       "0   2021-12-15  Spider-Man: No Way Home   \n",
       "1   2022-03-01               The Batman   \n",
       "2   2022-02-25                  No Exit   \n",
       "3   2021-11-24                  Encanto   \n",
       "4   2021-12-22           The King's Man   \n",
       "\n",
       "                                            Overview  Popularity Vote_Count  \\\n",
       "0  Peter Parker is unmasked and no longer able to...    5083.954       8940   \n",
       "1  In his second year of fighting crime, Batman u...    3827.658       1151   \n",
       "2  Stranded at a rest stop in the mountains durin...    2618.087        122   \n",
       "3  The tale of an extraordinary family, the Madri...    2402.201       5076   \n",
       "4  As a collection of history's worst tyrants and...    1895.511       1793   \n",
       "\n",
       "  Vote_Average Original_Language                               Genre  \\\n",
       "0          8.3                en  Action, Adventure, Science Fiction   \n",
       "1          8.1                en            Crime, Mystery, Thriller   \n",
       "2          6.3                en                            Thriller   \n",
       "3          7.7                en  Animation, Comedy, Family, Fantasy   \n",
       "4          7.0                en    Action, Adventure, Thriller, War   \n",
       "\n",
       "                                          Poster_Url  \n",
       "0  https://image.tmdb.org/t/p/original/1g0dhYtq4i...  \n",
       "1  https://image.tmdb.org/t/p/original/74xTEgt7R3...  \n",
       "2  https://image.tmdb.org/t/p/original/vDHsLnOWKl...  \n",
       "3  https://image.tmdb.org/t/p/original/4j0PNHkMr5...  \n",
       "4  https://image.tmdb.org/t/p/original/aq4Pwv5Xeu...  "
      ]
     },
     "execution_count": 4,
     "metadata": {},
     "output_type": "execute_result"
    }
   ],
   "source": [
    "df.head()"
   ]
  },
  {
   "cell_type": "code",
   "execution_count": 5,
   "id": "a65883d4",
   "metadata": {
    "ExecuteTime": {
     "end_time": "2024-02-03T12:41:04.505236500Z",
     "start_time": "2024-02-03T12:40:55.536171300Z"
    },
    "execution": {
     "iopub.execute_input": "2023-07-17T12:02:43.366821Z",
     "iopub.status.busy": "2023-07-17T12:02:43.366315Z",
     "iopub.status.idle": "2023-07-17T12:02:43.371071Z",
     "shell.execute_reply": "2023-07-17T12:02:43.370448Z"
    },
    "papermill": {
     "duration": 0.014318,
     "end_time": "2023-07-17T12:02:43.372672",
     "exception": false,
     "start_time": "2023-07-17T12:02:43.358354",
     "status": "completed"
    },
    "tags": []
   },
   "outputs": [
    {
     "data": {
      "text/plain": [
       "'https://image.tmdb.org/t/p/original/1g0dhYtq4irTY1GPXvft6k4YLjm.jpg'"
      ]
     },
     "execution_count": 5,
     "metadata": {},
     "output_type": "execute_result"
    }
   ],
   "source": [
    "df['Poster_Url'][0]"
   ]
  },
  {
   "cell_type": "markdown",
   "id": "8656ca95",
   "metadata": {
    "papermill": {
     "duration": 0.00609,
     "end_time": "2023-07-17T12:02:43.385494",
     "exception": false,
     "start_time": "2023-07-17T12:02:43.379404",
     "status": "completed"
    },
    "tags": []
   },
   "source": [
    "# **We will use a pre-trained model**"
   ]
  },
  {
   "cell_type": "code",
   "execution_count": null,
   "id": "d05fc148",
   "metadata": {
    "ExecuteTime": {
     "start_time": "2024-02-03T12:40:55.541774100Z"
    },
    "execution": {
     "iopub.execute_input": "2023-07-17T12:02:43.400164Z",
     "iopub.status.busy": "2023-07-17T12:02:43.399786Z",
     "iopub.status.idle": "2023-07-17T12:02:53.008898Z",
     "shell.execute_reply": "2023-07-17T12:02:53.007788Z"
    },
    "is_executing": true,
    "papermill": {
     "duration": 9.619391,
     "end_time": "2023-07-17T12:02:53.011262",
     "exception": false,
     "start_time": "2023-07-17T12:02:43.391871",
     "status": "completed"
    },
    "tags": []
   },
   "outputs": [],
   "source": [
    "# Import TensorFlow library\n",
    "import tensorflow as tf\n",
    "\n",
    "# Import TensorFlow Hub library for using pre-trained models\n",
    "import tensorflow_hub as hub\n",
    "\n",
    "# Import Matplotlib library for plotting\n",
    "import matplotlib.pyplot as plt\n",
    "\n",
    "# Import necessary packages\n",
    "import os  \n",
    "import re  "
   ]
  },
  {
   "cell_type": "code",
   "execution_count": null,
   "id": "8f410b60",
   "metadata": {
    "execution": {
     "iopub.execute_input": "2023-07-17T12:02:53.028069Z",
     "iopub.status.busy": "2023-07-17T12:02:53.027510Z",
     "iopub.status.idle": "2023-07-17T12:02:54.275730Z",
     "shell.execute_reply": "2023-07-17T12:02:54.274625Z"
    },
    "is_executing": true,
    "papermill": {
     "duration": 1.259091,
     "end_time": "2023-07-17T12:02:54.278144",
     "exception": false,
     "start_time": "2023-07-17T12:02:53.019053",
     "status": "completed"
    },
    "tags": []
   },
   "outputs": [],
   "source": [
    "# Import scikit-learn modules\n",
    "from sklearn.metrics.pairwise import cosine_similarity  # For computing cosine similarity between vectors\n",
    "from sklearn.neighbors import NearestNeighbors  # For implementing k-nearest neighbors algorithm\n",
    "from sklearn.decomposition import PCA  # For performing Principal Component Analysis (PCA)\n"
   ]
  },
  {
   "cell_type": "markdown",
   "id": "3a9de384",
   "metadata": {
    "papermill": {
     "duration": 0.006249,
     "end_time": "2023-07-17T12:02:54.291200",
     "exception": false,
     "start_time": "2023-07-17T12:02:54.284951",
     "status": "completed"
    },
    "tags": []
   },
   "source": [
    "# **Loading Pretrained Model**"
   ]
  },
  {
   "cell_type": "code",
   "execution_count": null,
   "id": "bab2768b",
   "metadata": {
    "execution": {
     "iopub.execute_input": "2023-07-17T12:02:54.305551Z",
     "iopub.status.busy": "2023-07-17T12:02:54.305180Z",
     "iopub.status.idle": "2023-07-17T12:03:21.957846Z",
     "shell.execute_reply": "2023-07-17T12:03:21.957074Z"
    },
    "is_executing": true,
    "papermill": {
     "duration": 27.662236,
     "end_time": "2023-07-17T12:03:21.959774",
     "exception": false,
     "start_time": "2023-07-17T12:02:54.297538",
     "status": "completed"
    },
    "tags": []
   },
   "outputs": [],
   "source": [
    "# Load the pre-trained model from TensorFlow Hub\n",
    "model = hub.load(\"https://tfhub.dev/google/universal-sentence-encoder/4\")\n",
    "print('model loaded')"
   ]
  },
  {
   "cell_type": "code",
   "execution_count": null,
   "id": "993222b0",
   "metadata": {
    "execution": {
     "iopub.execute_input": "2023-07-17T12:03:21.975556Z",
     "iopub.status.busy": "2023-07-17T12:03:21.975153Z",
     "iopub.status.idle": "2023-07-17T12:03:21.980564Z",
     "shell.execute_reply": "2023-07-17T12:03:21.979473Z"
    },
    "is_executing": true,
    "papermill": {
     "duration": 0.015323,
     "end_time": "2023-07-17T12:03:21.982333",
     "exception": false,
     "start_time": "2023-07-17T12:03:21.967010",
     "status": "completed"
    },
    "tags": []
   },
   "outputs": [],
   "source": [
    "# Define a function named 'embed' that takes a list of 'texts' as input\n",
    "def embed(texts):\n",
    "    # Use the pre-trained model to obtain embeddings for the input 'texts'\n",
    "    # The 'model' variable is assumed to be loaded with a pre-trained model from TensorFlow Hub\n",
    "    return model(texts)"
   ]
  },
  {
   "cell_type": "code",
   "execution_count": null,
   "id": "3417a0fd",
   "metadata": {
    "execution": {
     "iopub.execute_input": "2023-07-17T12:03:21.998389Z",
     "iopub.status.busy": "2023-07-17T12:03:21.998028Z",
     "iopub.status.idle": "2023-07-17T12:03:22.485612Z",
     "shell.execute_reply": "2023-07-17T12:03:22.484649Z"
    },
    "is_executing": true,
    "papermill": {
     "duration": 0.497939,
     "end_time": "2023-07-17T12:03:22.487596",
     "exception": false,
     "start_time": "2023-07-17T12:03:21.989657",
     "status": "completed"
    },
    "tags": []
   },
   "outputs": [],
   "source": [
    "embed(['Movie is good'])\n",
    "\n",
    "# 'embeddings' will contain the embeddings of the input text ['Movie is good']"
   ]
  },
  {
   "cell_type": "code",
   "execution_count": null,
   "id": "b702b5c0",
   "metadata": {
    "execution": {
     "iopub.execute_input": "2023-07-17T12:03:22.503003Z",
     "iopub.status.busy": "2023-07-17T12:03:22.502481Z",
     "iopub.status.idle": "2023-07-17T12:03:22.516710Z",
     "shell.execute_reply": "2023-07-17T12:03:22.516128Z"
    },
    "is_executing": true,
    "papermill": {
     "duration": 0.023596,
     "end_time": "2023-07-17T12:03:22.518392",
     "exception": false,
     "start_time": "2023-07-17T12:03:22.494796",
     "status": "completed"
    },
    "tags": []
   },
   "outputs": [],
   "source": [
    "# Select only the columns \"Title\", \"Overview\", and \"Poster_Url\" from the DataFrame 'df'\n",
    "# The DataFrame 'df' is assumed to have columns named \"Title\", \"Overview\", and \"Poster_Url\"\n",
    "df = df[[\"Title\", \"Overview\", \"Poster_Url\"]]\n",
    "\n",
    "# Display the first few rows of the modified DataFrame 'df'\n",
    "df.head()"
   ]
  },
  {
   "cell_type": "markdown",
   "id": "33ce6215",
   "metadata": {
    "papermill": {
     "duration": 0.006722,
     "end_time": "2023-07-17T12:03:22.532426",
     "exception": false,
     "start_time": "2023-07-17T12:03:22.525704",
     "status": "completed"
    },
    "tags": []
   },
   "source": [
    "# **Data Cleaning**"
   ]
  },
  {
   "cell_type": "markdown",
   "id": "15c24f1a",
   "metadata": {
    "papermill": {
     "duration": 0.006642,
     "end_time": "2023-07-17T12:03:22.545932",
     "exception": false,
     "start_time": "2023-07-17T12:03:22.539290",
     "status": "completed"
    },
    "tags": []
   },
   "source": []
  },
  {
   "cell_type": "code",
   "execution_count": null,
   "id": "17b33c60",
   "metadata": {
    "execution": {
     "iopub.execute_input": "2023-07-17T12:03:22.561605Z",
     "iopub.status.busy": "2023-07-17T12:03:22.560577Z",
     "iopub.status.idle": "2023-07-17T12:03:22.573747Z",
     "shell.execute_reply": "2023-07-17T12:03:22.572988Z"
    },
    "is_executing": true,
    "papermill": {
     "duration": 0.023327,
     "end_time": "2023-07-17T12:03:22.576016",
     "exception": false,
     "start_time": "2023-07-17T12:03:22.552689",
     "status": "completed"
    },
    "tags": []
   },
   "outputs": [],
   "source": [
    "# Check for missing values in each column of the DataFrame 'df'\n",
    "df.isnull().sum()"
   ]
  },
  {
   "cell_type": "code",
   "execution_count": null,
   "id": "191a1c4d",
   "metadata": {
    "execution": {
     "iopub.execute_input": "2023-07-17T12:03:22.594953Z",
     "iopub.status.busy": "2023-07-17T12:03:22.594231Z",
     "iopub.status.idle": "2023-07-17T12:03:22.684114Z",
     "shell.execute_reply": "2023-07-17T12:03:22.683451Z"
    },
    "is_executing": true,
    "papermill": {
     "duration": 0.1021,
     "end_time": "2023-07-17T12:03:22.685992",
     "exception": false,
     "start_time": "2023-07-17T12:03:22.583892",
     "status": "completed"
    },
    "tags": []
   },
   "outputs": [],
   "source": [
    "# Check for duplicate rows in the DataFrame 'df'\n",
    "df.duplicated().sum()\n",
    "has_duplicates = df.duplicated().any()\n",
    "print(has_duplicates)"
   ]
  },
  {
   "cell_type": "code",
   "execution_count": null,
   "id": "676702ae",
   "metadata": {
    "execution": {
     "iopub.execute_input": "2023-07-17T12:03:22.703028Z",
     "iopub.status.busy": "2023-07-17T12:03:22.702332Z",
     "iopub.status.idle": "2023-07-17T12:03:22.705707Z",
     "shell.execute_reply": "2023-07-17T12:03:22.705128Z"
    },
    "is_executing": true,
    "papermill": {
     "duration": 0.013835,
     "end_time": "2023-07-17T12:03:22.707356",
     "exception": false,
     "start_time": "2023-07-17T12:03:22.693521",
     "status": "completed"
    },
    "tags": []
   },
   "outputs": [],
   "source": [
    "movies = df"
   ]
  },
  {
   "cell_type": "code",
   "execution_count": null,
   "id": "d3a7e13f",
   "metadata": {
    "execution": {
     "iopub.execute_input": "2023-07-17T12:03:22.723588Z",
     "iopub.status.busy": "2023-07-17T12:03:22.723019Z",
     "iopub.status.idle": "2023-07-17T12:03:22.730730Z",
     "shell.execute_reply": "2023-07-17T12:03:22.729764Z"
    },
    "is_executing": true,
    "papermill": {
     "duration": 0.017658,
     "end_time": "2023-07-17T12:03:22.732344",
     "exception": false,
     "start_time": "2023-07-17T12:03:22.714686",
     "status": "completed"
    },
    "tags": []
   },
   "outputs": [],
   "source": [
    "titles=list(movies['Overview'])\n",
    "titles[:5]"
   ]
  },
  {
   "cell_type": "markdown",
   "id": "74f73f16",
   "metadata": {
    "papermill": {
     "duration": 0.006977,
     "end_time": "2023-07-17T12:03:22.746885",
     "exception": false,
     "start_time": "2023-07-17T12:03:22.739908",
     "status": "completed"
    },
    "tags": []
   },
   "source": [
    "# **Embedding**"
   ]
  },
  {
   "cell_type": "code",
   "execution_count": null,
   "id": "3fdad49b",
   "metadata": {
    "execution": {
     "iopub.execute_input": "2023-07-17T12:03:22.763461Z",
     "iopub.status.busy": "2023-07-17T12:03:22.762796Z",
     "iopub.status.idle": "2023-07-17T12:03:24.973568Z",
     "shell.execute_reply": "2023-07-17T12:03:24.972967Z"
    },
    "is_executing": true,
    "papermill": {
     "duration": 2.221155,
     "end_time": "2023-07-17T12:03:24.975257",
     "exception": false,
     "start_time": "2023-07-17T12:03:22.754102",
     "status": "completed"
    },
    "tags": []
   },
   "outputs": [],
   "source": [
    "# Generate embeddings for the list of 'titles' using the 'embed' function\n",
    "# The 'embed' function is assumed to be defined earlier and capable of generating embeddings from the given input.\n",
    "embeddings = embed(titles)\n",
    "\n",
    "# Print the shape of the resulting embeddings\n",
    "print('The embedding shape is: ', embeddings.shape)"
   ]
  },
  {
   "cell_type": "markdown",
   "id": "2107e66c",
   "metadata": {
    "papermill": {
     "duration": 0.007085,
     "end_time": "2023-07-17T12:03:24.989720",
     "exception": false,
     "start_time": "2023-07-17T12:03:24.982635",
     "status": "completed"
    },
    "tags": []
   },
   "source": [
    "# **PCA**"
   ]
  },
  {
   "cell_type": "code",
   "execution_count": null,
   "id": "8f77500f",
   "metadata": {
    "ExecuteTime": {
     "start_time": "2024-02-03T11:03:22.823141200Z"
    },
    "execution": {
     "iopub.execute_input": "2023-07-17T12:03:25.006021Z",
     "iopub.status.busy": "2023-07-17T12:03:25.005694Z",
     "iopub.status.idle": "2023-07-17T12:03:25.478157Z",
     "shell.execute_reply": "2023-07-17T12:03:25.477335Z"
    },
    "papermill": {
     "duration": 0.483916,
     "end_time": "2023-07-17T12:03:25.480877",
     "exception": false,
     "start_time": "2023-07-17T12:03:24.996961",
     "status": "completed"
    },
    "tags": []
   },
   "outputs": [],
   "source": [
    "pca=PCA(n_components=2)\n",
    "emb_2d=pca.fit_transform(embeddings)"
   ]
  },
  {
   "cell_type": "markdown",
   "id": "c7ac153e",
   "metadata": {
    "papermill": {
     "duration": 0.020983,
     "end_time": "2023-07-17T12:03:25.512308",
     "exception": false,
     "start_time": "2023-07-17T12:03:25.491325",
     "status": "completed"
    },
    "tags": []
   },
   "source": [
    "# **Scatter Plot**"
   ]
  },
  {
   "cell_type": "code",
   "execution_count": null,
   "id": "a8d1ff66",
   "metadata": {
    "ExecuteTime": {
     "start_time": "2024-02-03T11:03:22.824141Z"
    },
    "execution": {
     "iopub.execute_input": "2023-07-17T12:03:25.556208Z",
     "iopub.status.busy": "2023-07-17T12:03:25.555356Z",
     "iopub.status.idle": "2023-07-17T12:03:25.826158Z",
     "shell.execute_reply": "2023-07-17T12:03:25.825404Z"
    },
    "papermill": {
     "duration": 0.293765,
     "end_time": "2023-07-17T12:03:25.827908",
     "exception": false,
     "start_time": "2023-07-17T12:03:25.534143",
     "status": "completed"
    },
    "tags": []
   },
   "outputs": [],
   "source": [
    "plt.figure(figsize=(11,6))\n",
    "plt.title(\"Embedding space\")\n",
    "plt.scatter(emb_2d[:,0],emb_2d[:,1])\n",
    "plt.show()"
   ]
  },
  {
   "cell_type": "markdown",
   "id": "885b96c5",
   "metadata": {
    "papermill": {
     "duration": 0.00836,
     "end_time": "2023-07-17T12:03:25.844684",
     "exception": false,
     "start_time": "2023-07-17T12:03:25.836324",
     "status": "completed"
    },
    "tags": []
   },
   "source": [
    "# **NearestNeighbours**"
   ]
  },
  {
   "cell_type": "code",
   "execution_count": null,
   "id": "47ea5ee6",
   "metadata": {
    "ExecuteTime": {
     "start_time": "2024-02-03T11:03:22.825155400Z"
    },
    "execution": {
     "iopub.execute_input": "2023-07-17T12:03:25.864337Z",
     "iopub.status.busy": "2023-07-17T12:03:25.863623Z",
     "iopub.status.idle": "2023-07-17T12:03:25.882058Z",
     "shell.execute_reply": "2023-07-17T12:03:25.881206Z"
    },
    "papermill": {
     "duration": 0.030255,
     "end_time": "2023-07-17T12:03:25.884269",
     "exception": false,
     "start_time": "2023-07-17T12:03:25.854014",
     "status": "completed"
    },
    "tags": []
   },
   "outputs": [],
   "source": [
    "from sklearn.neighbors import NearestNeighbors\n",
    "\n",
    "# Initialize the NearestNeighbors model with 'n_neighbors' set to 10\n",
    "# The model will find the 10 nearest neighbors for each data point in the 'embeddings' dataset.\n",
    "nn = NearestNeighbors(n_neighbors=10)\n",
    "\n",
    "# Fit the NearestNeighbors model with the 'embeddings' dataset\n",
    "# The model will learn the distances and indices of the 10 nearest neighbors for each data point.\n",
    "nn.fit(embeddings)\n"
   ]
  },
  {
   "cell_type": "code",
   "execution_count": null,
   "id": "b5bf6a36",
   "metadata": {
    "ExecuteTime": {
     "start_time": "2024-02-03T11:03:22.825155400Z"
    },
    "execution": {
     "iopub.execute_input": "2023-07-17T12:03:25.903615Z",
     "iopub.status.busy": "2023-07-17T12:03:25.902690Z",
     "iopub.status.idle": "2023-07-17T12:03:25.909056Z",
     "shell.execute_reply": "2023-07-17T12:03:25.907873Z"
    },
    "papermill": {
     "duration": 0.018409,
     "end_time": "2023-07-17T12:03:25.911317",
     "exception": false,
     "start_time": "2023-07-17T12:03:25.892908",
     "status": "completed"
    },
    "tags": []
   },
   "outputs": [],
   "source": [
    "# Define a function named 'recommend' that takes a 'text' as input\n",
    "def recommend(text):\n",
    "    # Generate the embedding for the input 'text' using the 'embed' function\n",
    "    emb = embed([text])\n",
    "\n",
    "    # Find the 10 nearest neighbors based on the computed embeddings using the NearestNeighbors model 'nn'\n",
    "    neighbors = nn.kneighbors(emb, return_distance=False)[0]\n",
    "\n",
    "    # Print the titles of the recommended movies based on the nearest neighbors\n",
    "    for i in neighbors:\n",
    "        print(movies['Title'].iloc[i])\n"
   ]
  },
  {
   "cell_type": "markdown",
   "id": "118c7699",
   "metadata": {
    "papermill": {
     "duration": 0.008244,
     "end_time": "2023-07-17T12:03:25.928635",
     "exception": false,
     "start_time": "2023-07-17T12:03:25.920391",
     "status": "completed"
    },
    "tags": []
   },
   "source": [
    "# **Predictions**"
   ]
  },
  {
   "cell_type": "code",
   "execution_count": null,
   "id": "3440264d",
   "metadata": {
    "ExecuteTime": {
     "start_time": "2024-02-03T11:03:22.826142700Z"
    },
    "execution": {
     "iopub.execute_input": "2023-07-17T12:03:25.948065Z",
     "iopub.status.busy": "2023-07-17T12:03:25.947478Z",
     "iopub.status.idle": "2023-07-17T12:03:26.008650Z",
     "shell.execute_reply": "2023-07-17T12:03:26.007881Z"
    },
    "papermill": {
     "duration": 0.073018,
     "end_time": "2023-07-17T12:03:26.010221",
     "exception": false,
     "start_time": "2023-07-17T12:03:25.937203",
     "status": "completed"
    },
    "tags": []
   },
   "outputs": [],
   "source": [
    "print(\"Recommended Movies:\")\n",
    "recommend('Captain America: Civil War')"
   ]
  },
  {
   "cell_type": "code",
   "execution_count": null,
   "id": "18ebc194",
   "metadata": {
    "ExecuteTime": {
     "start_time": "2024-02-03T11:03:22.826142700Z"
    },
    "execution": {
     "iopub.execute_input": "2023-07-17T12:03:26.029164Z",
     "iopub.status.busy": "2023-07-17T12:03:26.028561Z",
     "iopub.status.idle": "2023-07-17T12:03:26.044692Z",
     "shell.execute_reply": "2023-07-17T12:03:26.043936Z"
    },
    "papermill": {
     "duration": 0.02778,
     "end_time": "2023-07-17T12:03:26.046377",
     "exception": false,
     "start_time": "2023-07-17T12:03:26.018597",
     "status": "completed"
    },
    "tags": []
   },
   "outputs": [],
   "source": [
    "print(\"Recommended Movies:\")\n",
    "recommend('Batman')"
   ]
  },
  {
   "cell_type": "markdown",
   "id": "5a665733",
   "metadata": {
    "papermill": {
     "duration": 0.008427,
     "end_time": "2023-07-17T12:03:26.063663",
     "exception": false,
     "start_time": "2023-07-17T12:03:26.055236",
     "status": "completed"
    },
    "tags": []
   },
   "source": [
    "# **Overview what we have done**\n",
    "1. We start by importing the required libraries, including pandas, numpy, tensorflow, tensorflow_hub, and sklearn.\n",
    "2. We define functions to load the pre-trained model, generate embeddings for texts, recommend movies based on the input text, and load movie data from a CSV file.\n",
    "3. In the main() function, we load the movie data, select relevant columns, load the pre-trained model, and generate embeddings for movie overviews using the model.\n",
    "4. We initialize the NearestNeighbors model, fit it with the embeddings, and get user input for movie recommendation.\n",
    "5. The recommend_movies function then recommends movies based on the user input using the NearestNeighbors model.\n",
    "6. The program is executed by calling the main() function."
   ]
  }
 ],
 "metadata": {
  "kernelspec": {
   "display_name": "Python 3 (ipykernel)",
   "language": "python",
   "name": "python3"
  },
  "language_info": {
   "codemirror_mode": {
    "name": "ipython",
    "version": 3
   },
   "file_extension": ".py",
   "mimetype": "text/x-python",
   "name": "python",
   "nbconvert_exporter": "python",
   "pygments_lexer": "ipython3",
   "version": "3.11.6"
  },
  "papermill": {
   "default_parameters": {},
   "duration": 54.351776,
   "end_time": "2023-07-17T12:03:29.093506",
   "environment_variables": {},
   "exception": null,
   "input_path": "__notebook__.ipynb",
   "output_path": "__notebook__.ipynb",
   "parameters": {},
   "start_time": "2023-07-17T12:02:34.741730",
   "version": "2.4.0"
  }
 },
 "nbformat": 4,
 "nbformat_minor": 5
}
